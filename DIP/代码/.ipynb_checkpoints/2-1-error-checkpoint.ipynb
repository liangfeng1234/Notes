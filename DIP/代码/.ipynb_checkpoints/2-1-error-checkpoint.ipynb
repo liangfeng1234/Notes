{
 "cells": [
  {
   "cell_type": "code",
   "execution_count": 3,
   "id": "f4f1f3d1-2b15-4c12-9332-175eca6b4d39",
   "metadata": {},
   "outputs": [],
   "source": [
    "import cv2 as cv\n",
    "import numpy as np\n",
    "import matplotlib.pyplot as plt\n",
    "import math\n",
    "import random"
   ]
  },
  {
   "cell_type": "code",
   "execution_count": 4,
   "id": "e9301380-60b2-4f12-9389-1181c1589f20",
   "metadata": {},
   "outputs": [],
   "source": [
    "def show(img):\n",
    "    if img.ndim == 2:\n",
    "        plt.imshow(img, cmap = 'gray')\n",
    "    else:\n",
    "        plt.imshow(cv.cvtColor(img, cv2.COLOR_BGR2RGB))\n",
    "    plt.show()"
   ]
  },
  {
   "cell_type": "code",
   "execution_count": 5,
   "id": "96a20f85-6d4a-4ada-a6b3-ec7b75dd05cd",
   "metadata": {},
   "outputs": [],
   "source": [
    "def angle(img):\n",
    "    height = img.shape[0]  # 高度\n",
    "    width  = img.shape[1]  # 宽度\n",
    "    cut_img = img\n",
    "    # 获得灰度图\n",
    "    gray = cv2.cvtColor(cut_img, cv2.COLOR_BGR2GRAY)\n",
    "    # 使用canny算法获得图像边缘\n",
    "    edges = cv2.Canny(gray, 50, 150, apertureSize=3)\n",
    "    result = cut_img.copy()\n",
    "\n",
    "    minLineLength = 400  # 检测的直线的最小长度\n",
    "    maxLineGap = 2      # 检测的直线的最大间距\n",
    "    # 获取直线\n",
    "    lines = cv2.HoughLinesP(edges, 1, np.pi / 180, 50, minLineLength=minLineLength, maxLineGap=maxLineGap)\n",
    "    Note=open('data.txt',mode='w')\n",
    "    for i in range(lines.shape[0]):\n",
    "        for x1, y1, x2, y2 in lines[i]:\n",
    "            Note.write(str(x1) + ' ' + str(y1) + '\\n' + str(x2) + ' ' + str(y2) + '\\n') \n",
    "    Note.close()\n",
    "    return "
   ]
  },
  {
   "cell_type": "code",
   "execution_count": 6,
   "id": "96d682c0-754d-4c65-9a49-05f0d12015de",
   "metadata": {},
   "outputs": [],
   "source": [
    "img = cv.imread('img/4-3.jpg')\n",
    "angle(img)"
   ]
  },
  {
   "cell_type": "code",
   "execution_count": 92,
   "id": "768a4049-3596-41d2-aa78-fe3e22ccccca",
   "metadata": {},
   "outputs": [],
   "source": [
    "k = 3 # 要分的簇数\n",
    "rnd = 0 # 轮次，用于控制迭代次数（见上文）\n",
    "ROUND_LIMIT = 100 # 轮次的上限\n",
    "THRESHOLD = 1e-10 # 单轮改变距离的阈值，若改变幅度小于该阈值，算法终止\n",
    "melons = [] # 西瓜的列表\n",
    "clusters = [] # 簇的列表，clusters[i]表示第i簇包含的西瓜\n"
   ]
  },
  {
   "cell_type": "code",
   "execution_count": 93,
   "id": "7ce77784-81a1-4f2d-a536-e6327d67556a",
   "metadata": {},
   "outputs": [],
   "source": [
    "f = open('data.txt', 'r')\n",
    "for line in f:\n",
    "    # 把字符串转化为numpy中的float64类型\n",
    "    melons.append(np.array(line.split(' '), dtype = np.string_).astype(np.float64))"
   ]
  },
  {
   "cell_type": "code",
   "execution_count": 94,
   "id": "db71ab44-d19e-4b90-85dd-4090fbc6218d",
   "metadata": {},
   "outputs": [],
   "source": [
    "# random的sample函数从列表中随机挑选出k个样本（不重复）。我们在这里把这些样本作为均值向量\n",
    "mean_vectors = random.sample(melons, k)\n"
   ]
  },
  {
   "cell_type": "code",
   "execution_count": 95,
   "id": "04ea60c2-df15-432c-9589-e1d9c2fb7146",
   "metadata": {},
   "outputs": [
    {
     "name": "stdout",
     "output_type": "stream",
     "text": [
      "最终迭代3轮\n"
     ]
    }
   ],
   "source": [
    "# 这个while对应上面算法的2-17行\n",
    "while True:\n",
    "    rnd += 1 # 轮次增加\n",
    "    change = 0 # 把改变幅度重置为0\n",
    "    \n",
    "    # 清空对簇的划分，对应上面算法的第3行\n",
    "    clusters = []\n",
    "    for i in range(k):\n",
    "        clusters.append([])\n",
    "    # 这个for对应上面算法的4-8行\n",
    "    for melon in melons:\n",
    "        '''\n",
    "        argmin 函数找出容器中最小的下标，在这里这个目标容器是\n",
    "        list(map(lambda vec: np.linalg.norm(melon - vec, ord = 2), mean_vectors)),\n",
    "        它表示melon与mean_vectors中所有向量的距离列表。\n",
    "        (numpy.linalg.norm计算向量的范数,ord = 2即欧几里得范数，或模长)\n",
    "        '''\n",
    "        c = np.argmin(\n",
    "            list(map( lambda vec: np.linalg.norm(melon - vec, ord = 2), mean_vectors))\n",
    "        )\n",
    "\n",
    "        clusters[c].append(melon)\n",
    "\n",
    "    # 这个for对应上面算法的9-16行\n",
    "    for i in range(k):\n",
    "        # 求每个簇的新均值向量\n",
    "        new_vector = np.zeros((1,2))\n",
    "        for melon in clusters[i]:\n",
    "            new_vector += melon\n",
    "        new_vector /= len(clusters[i])\n",
    "        \n",
    "        # 累加改变幅度并更新均值向量\n",
    "        change += np.linalg.norm(mean_vectors[i] - new_vector, ord = 2)\n",
    "        mean_vectors[i] = new_vector\n",
    "    # 若超过设定的轮次或者变化幅度<预先设定的阈值，结束算法\n",
    "    if rnd > ROUND_LIMIT or change < THRESHOLD:\n",
    "        break\n",
    "print('最终迭代%d轮'%rnd)\n"
   ]
  },
  {
   "cell_type": "code",
   "execution_count": 96,
   "id": "008ae328-ff37-440a-a42d-94fb03d48506",
   "metadata": {},
   "outputs": [
    {
     "data": {
      "image/png": "[encoded data removed]",
      "text/plain": [
       "<Figure size 640x480 with 1 Axes>"
      ]
     },
     "metadata": {},
     "output_type": "display_data"
    }
   ],
   "source": [
    "colors = ['red', 'green', 'blue']\n",
    "\n",
    "# 每个簇换一下颜色，同时迭代簇和颜色两个列表\n",
    "for i, col in zip(range(k), colors):\n",
    "    for melon in clusters[i]:\n",
    "    \t# 绘制散点图\n",
    "        plt.scatter(melon[0], melon[1], color = col)\n",
    "\n",
    "plt.show()\n"
   ]
  },
  {
   "cell_type": "code",
   "execution_count": null,
   "id": "d28935e9-2a91-4021-a3ca-4b89b8b747a0",
   "metadata": {},
   "outputs": [],
   "source": []
  },
  {
   "cell_type": "code",
   "execution_count": null,
   "id": "9e39887e-6c2d-4750-b2a1-784d1fe80f40",
   "metadata": {},
   "outputs": [],
   "source": []
  }
 ],
 "metadata": {
  "kernelspec": {
   "display_name": "Python 3",
   "language": "python",
   "name": "python3"
  },
  "language_info": {
   "codemirror_mode": {
    "name": "ipython",
    "version": 3
   },
   "file_extension": ".py",
   "mimetype": "text/x-python",
   "name": "python",
   "nbconvert_exporter": "python",
   "pygments_lexer": "ipython3",
   "version": "3.9.12"
  }
 },
 "nbformat": 4,
 "nbformat_minor": 5
}
