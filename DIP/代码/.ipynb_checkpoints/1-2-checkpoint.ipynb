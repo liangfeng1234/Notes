{
 "cells": [
  {
   "cell_type": "code",
   "execution_count": 1,
   "id": "e40436ff-bca9-49dd-b52c-e37f5131d63d",
   "metadata": {},
   "outputs": [
    {
     "name": "stdout",
     "output_type": "stream",
     "text": [
      "2-1.jpg中感兴趣对象的角度为: 36.2365377849408\n",
      "2-2.jpg中感兴趣对象的角度为: 17.004477497798195\n",
      "4-1.jpg中感兴趣对象的角度为: 14.980748690115698\n",
      "4-2.jpg中感兴趣对象的角度为: 0.0\n",
      "4-3.jpg中感兴趣对象的角度为: 45.26836449804088\n"
     ]
    }
   ],
   "source": [
    "import cv2\n",
    "import numpy as np\n",
    "import matplotlib.pyplot as plt\n",
    "import math\n",
    "import os\n",
    "\n",
    "# 自定义展示图片的函数\n",
    "def show(img):\n",
    "    if img.ndim == 2:\n",
    "        plt.imshow(img, cmap = 'gray')\n",
    "    else:\n",
    "        plt.imshow(cv2.cvtColor(img, cv2.COLOR_BGR2RGB))\n",
    "    plt.show()\n",
    "    \n",
    "def angle(img):\n",
    "    height = img.shape[0]  # 高度\n",
    "    width  = img.shape[1]  # 宽度\n",
    "    cut_img = img\n",
    "    tan = 0\n",
    "    # 获得灰度图\n",
    "    gray = cv2.cvtColor(cut_img, cv2.COLOR_BGR2GRAY)\n",
    "    # 使用canny算法获得图像边缘\n",
    "    edges = cv2.Canny(gray, 50, 150, apertureSize=3)\n",
    "    result = cut_img.copy()\n",
    "    \n",
    "    minLineLength = 500  # 检测的直线的最小长度\n",
    "    maxLineGap = 5      # 检测的直线的最小间距\n",
    "    # 获取直线\n",
    "    lines = cv2.HoughLinesP(edges, 1, np.pi / 180, 50, minLineLength=minLineLength, maxLineGap=maxLineGap)\n",
    "    for i in range(lines.shape[0]):\n",
    "        for x1, y1, x2, y2 in lines[i]:\n",
    "            if(x2 - x1 != 0):\n",
    "                tan += abs(y2 - y1) / abs(x2 - x1)\n",
    "    tan /= lines.shape[0]\n",
    "    return math.degrees(math.atan(tan))\n",
    "\n",
    "path = r\"img/1-2\"    # 文件路径\n",
    "file_list = os.walk(path)\n",
    "for root, dirs, files in file_list:\n",
    "    for file in files:\n",
    "        pic_path = os.path.join(root, file)    # 每一个图片的路径\n",
    "        # 读取图像\n",
    "        img = cv2.imread(pic_path)\n",
    "        ang = angle(img)\n",
    "        print('{}中感兴趣对象的角度为: {}'.format(file,ang))"
   ]
  },
  {
   "cell_type": "code",
   "execution_count": null,
   "id": "61bf72b1-2aec-4cc9-a4f5-95b444c1b955",
   "metadata": {},
   "outputs": [],
   "source": []
  }
 ],
 "metadata": {
  "kernelspec": {
   "display_name": "Python 3",
   "language": "python",
   "name": "python3"
  },
  "language_info": {
   "codemirror_mode": {
    "name": "ipython",
    "version": 3
   },
   "file_extension": ".py",
   "mimetype": "text/x-python",
   "name": "python",
   "nbconvert_exporter": "python",
   "pygments_lexer": "ipython3",
   "version": "3.9.12"
  }
 },
 "nbformat": 4,
 "nbformat_minor": 5
}
